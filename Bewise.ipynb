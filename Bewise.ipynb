{
 "cells": [
  {
   "cell_type": "markdown",
   "id": "8d3d5113",
   "metadata": {},
   "source": [
    "## Импорт библиотек"
   ]
  },
  {
   "cell_type": "code",
   "execution_count": 1,
   "id": "1cccb291",
   "metadata": {},
   "outputs": [],
   "source": [
    "import pandas as pd\n",
    "import numpy as np\n",
    "import nltk\n",
    "from nltk.stem import WordNetLemmatizer "
   ]
  },
  {
   "cell_type": "code",
   "execution_count": 2,
   "id": "593c6c40",
   "metadata": {},
   "outputs": [
    {
     "name": "stderr",
     "output_type": "stream",
     "text": [
      "[nltk_data] Downloading package punkt to\n",
      "[nltk_data]     C:\\Users\\Dany\\AppData\\Roaming\\nltk_data...\n",
      "[nltk_data]   Package punkt is already up-to-date!\n",
      "[nltk_data] Downloading package stopwords to\n",
      "[nltk_data]     C:\\Users\\Dany\\AppData\\Roaming\\nltk_data...\n",
      "[nltk_data]   Package stopwords is already up-to-date!\n",
      "[nltk_data] Downloading package wordnet to\n",
      "[nltk_data]     C:\\Users\\Dany\\AppData\\Roaming\\nltk_data...\n",
      "[nltk_data]   Package wordnet is already up-to-date!\n",
      "[nltk_data] Downloading package omw-1.4 to\n",
      "[nltk_data]     C:\\Users\\Dany\\AppData\\Roaming\\nltk_data...\n",
      "[nltk_data]   Package omw-1.4 is already up-to-date!\n"
     ]
    },
    {
     "data": {
      "text/plain": [
       "True"
      ]
     },
     "execution_count": 2,
     "metadata": {},
     "output_type": "execute_result"
    }
   ],
   "source": [
    "nltk.download('punkt')\n",
    "nltk.download('stopwords')\n",
    "nltk.download('wordnet')\n",
    "nltk.download('omw-1.4')"
   ]
  },
  {
   "cell_type": "markdown",
   "id": "072ec8a0",
   "metadata": {},
   "source": [
    "## Определим необходимые части анализатора текстов"
   ]
  },
  {
   "cell_type": "code",
   "execution_count": 3,
   "id": "ded518ac",
   "metadata": {},
   "outputs": [],
   "source": [
    "from natasha import (\n",
    "    Segmenter,\n",
    "    MorphVocab,\n",
    "    NewsEmbedding,\n",
    "    NewsMorphTagger,\n",
    "    NewsSyntaxParser,   \n",
    "    Doc,\n",
    "    NamesExtractor,\n",
    "    NewsNERTagger, \n",
    "    PER\n",
    ")"
   ]
  },
  {
   "cell_type": "code",
   "execution_count": 4,
   "id": "9d359fc1",
   "metadata": {},
   "outputs": [],
   "source": [
    "doc = Doc(\"Ангелина Иванова\")"
   ]
  },
  {
   "cell_type": "code",
   "execution_count": 5,
   "id": "1e36716e",
   "metadata": {},
   "outputs": [],
   "source": [
    "segmenter = Segmenter()\n",
    "morph_vocab = MorphVocab()\n",
    "\n",
    "emb = NewsEmbedding()\n",
    "morph_tagger = NewsMorphTagger(emb)\n",
    "syntax_parser = NewsSyntaxParser(emb)\n",
    "ner_tagger = NewsNERTagger(emb)\n",
    "morph_vocab = MorphVocab()\n",
    "\n",
    "names_extractor = NamesExtractor(morph_vocab)"
   ]
  },
  {
   "cell_type": "code",
   "execution_count": 6,
   "id": "2a3d32a5",
   "metadata": {},
   "outputs": [
    {
     "name": "stdout",
     "output_type": "stream",
     "text": [
      "            Ангелина PROPN|Animacy=Anim|Case=Nom|Gender=Fem|Number=Sing\n",
      "             Иванова PROPN|Animacy=Anim|Case=Nom|Gender=Fem|Number=Sing\n"
     ]
    }
   ],
   "source": [
    "doc.segment(segmenter)\n",
    "doc.tag_morph(morph_tagger)\n",
    "doc.parse_syntax(syntax_parser)\n",
    "doc.tag_ner(ner_tagger)\n",
    "sent = doc.sents[0]\n",
    "sent.morph.print()\n",
    "\n",
    "names_extractor = NamesExtractor(morph_vocab)"
   ]
  },
  {
   "cell_type": "markdown",
   "id": "d0d05fa3",
   "metadata": {},
   "source": [
    "## Загрузка данных"
   ]
  },
  {
   "cell_type": "code",
   "execution_count": 7,
   "id": "cfe0159b",
   "metadata": {},
   "outputs": [
    {
     "data": {
      "text/html": [
       "<div>\n",
       "<style scoped>\n",
       "    .dataframe tbody tr th:only-of-type {\n",
       "        vertical-align: middle;\n",
       "    }\n",
       "\n",
       "    .dataframe tbody tr th {\n",
       "        vertical-align: top;\n",
       "    }\n",
       "\n",
       "    .dataframe thead th {\n",
       "        text-align: right;\n",
       "    }\n",
       "</style>\n",
       "<table border=\"1\" class=\"dataframe\">\n",
       "  <thead>\n",
       "    <tr style=\"text-align: right;\">\n",
       "      <th></th>\n",
       "      <th>dlg_id</th>\n",
       "      <th>line_n</th>\n",
       "      <th>role</th>\n",
       "      <th>text</th>\n",
       "    </tr>\n",
       "  </thead>\n",
       "  <tbody>\n",
       "    <tr>\n",
       "      <th>0</th>\n",
       "      <td>0</td>\n",
       "      <td>0</td>\n",
       "      <td>manager</td>\n",
       "      <td>Алло</td>\n",
       "    </tr>\n",
       "    <tr>\n",
       "      <th>1</th>\n",
       "      <td>0</td>\n",
       "      <td>1</td>\n",
       "      <td>client</td>\n",
       "      <td>Алло здравствуйте</td>\n",
       "    </tr>\n",
       "    <tr>\n",
       "      <th>2</th>\n",
       "      <td>0</td>\n",
       "      <td>2</td>\n",
       "      <td>manager</td>\n",
       "      <td>Добрый день</td>\n",
       "    </tr>\n",
       "    <tr>\n",
       "      <th>3</th>\n",
       "      <td>0</td>\n",
       "      <td>3</td>\n",
       "      <td>client</td>\n",
       "      <td>Меня зовут ангелина компания диджитал бизнес з...</td>\n",
       "    </tr>\n",
       "    <tr>\n",
       "      <th>4</th>\n",
       "      <td>0</td>\n",
       "      <td>4</td>\n",
       "      <td>manager</td>\n",
       "      <td>Ага</td>\n",
       "    </tr>\n",
       "  </tbody>\n",
       "</table>\n",
       "</div>"
      ],
      "text/plain": [
       "   dlg_id  line_n     role                                               text\n",
       "0       0       0  manager                                               Алло\n",
       "1       0       1   client                                  Алло здравствуйте\n",
       "2       0       2  manager                                        Добрый день\n",
       "3       0       3   client  Меня зовут ангелина компания диджитал бизнес з...\n",
       "4       0       4  manager                                                Ага"
      ]
     },
     "execution_count": 7,
     "metadata": {},
     "output_type": "execute_result"
    }
   ],
   "source": [
    "data = pd.read_csv('test_data.csv')\n",
    "#data['text'] = data['text'].str.title()\n",
    "data['text'] = data['text'].str.replace(r'[^А-Яа-я ]', '', regex=True)\n",
    "data.head()"
   ]
  },
  {
   "cell_type": "markdown",
   "id": "7439fd3b",
   "metadata": {},
   "source": [
    "## Для простоты поиска имен, скачаем их из репозитория ниже\n",
    "## https://github.com/ktaranov/db-data/blob/master/PeopleNames/russian_names.csv"
   ]
  },
  {
   "cell_type": "code",
   "execution_count": 8,
   "id": "84864fe7",
   "metadata": {},
   "outputs": [
    {
     "data": {
      "text/html": [
       "<div>\n",
       "<style scoped>\n",
       "    .dataframe tbody tr th:only-of-type {\n",
       "        vertical-align: middle;\n",
       "    }\n",
       "\n",
       "    .dataframe tbody tr th {\n",
       "        vertical-align: top;\n",
       "    }\n",
       "\n",
       "    .dataframe thead th {\n",
       "        text-align: right;\n",
       "    }\n",
       "</style>\n",
       "<table border=\"1\" class=\"dataframe\">\n",
       "  <thead>\n",
       "    <tr style=\"text-align: right;\">\n",
       "      <th></th>\n",
       "      <th>Name</th>\n",
       "      <th>Sex</th>\n",
       "    </tr>\n",
       "  </thead>\n",
       "  <tbody>\n",
       "    <tr>\n",
       "      <th>0</th>\n",
       "      <td>Аалия</td>\n",
       "      <td>Ж</td>\n",
       "    </tr>\n",
       "    <tr>\n",
       "      <th>1</th>\n",
       "      <td>Аанжелла</td>\n",
       "      <td>Ж</td>\n",
       "    </tr>\n",
       "    <tr>\n",
       "      <th>2</th>\n",
       "      <td>Аба</td>\n",
       "      <td>Ж</td>\n",
       "    </tr>\n",
       "    <tr>\n",
       "      <th>3</th>\n",
       "      <td>Абав</td>\n",
       "      <td>Ж</td>\n",
       "    </tr>\n",
       "    <tr>\n",
       "      <th>4</th>\n",
       "      <td>Абам</td>\n",
       "      <td>Ж</td>\n",
       "    </tr>\n",
       "  </tbody>\n",
       "</table>\n",
       "</div>"
      ],
      "text/plain": [
       "       Name Sex\n",
       "0     Аалия   Ж\n",
       "1  Аанжелла   Ж\n",
       "2       Аба   Ж\n",
       "3      Абав   Ж\n",
       "4      Абам   Ж"
      ]
     },
     "execution_count": 8,
     "metadata": {},
     "output_type": "execute_result"
    }
   ],
   "source": [
    "names_df = pd.read_csv('russian_names.csv', sep=',')\n",
    "names_df.head()"
   ]
  },
  {
   "cell_type": "markdown",
   "id": "aa43e55c",
   "metadata": {},
   "source": [
    "## Подсчет количества диалогов"
   ]
  },
  {
   "cell_type": "code",
   "execution_count": 9,
   "id": "f8601625",
   "metadata": {},
   "outputs": [
    {
     "data": {
      "text/plain": [
       "6"
      ]
     },
     "execution_count": 9,
     "metadata": {},
     "output_type": "execute_result"
    }
   ],
   "source": [
    "num_of_dialogs = data[data[\"line_n\"] == 0].shape[0]\n",
    "num_of_dialogs"
   ]
  },
  {
   "cell_type": "markdown",
   "id": "8a2baba1",
   "metadata": {},
   "source": [
    "## Определим, кто первый говорил, чтобы определить примерное количество строк диалога, за которые менеджер должен был представиться"
   ]
  },
  {
   "cell_type": "code",
   "execution_count": 10,
   "id": "6a2324a8",
   "metadata": {},
   "outputs": [
    {
     "data": {
      "text/html": [
       "<div>\n",
       "<style scoped>\n",
       "    .dataframe tbody tr th:only-of-type {\n",
       "        vertical-align: middle;\n",
       "    }\n",
       "\n",
       "    .dataframe tbody tr th {\n",
       "        vertical-align: top;\n",
       "    }\n",
       "\n",
       "    .dataframe thead th {\n",
       "        text-align: right;\n",
       "    }\n",
       "</style>\n",
       "<table border=\"1\" class=\"dataframe\">\n",
       "  <thead>\n",
       "    <tr style=\"text-align: right;\">\n",
       "      <th></th>\n",
       "      <th>dlg_id</th>\n",
       "      <th>line_n</th>\n",
       "      <th>role</th>\n",
       "      <th>text</th>\n",
       "    </tr>\n",
       "  </thead>\n",
       "  <tbody>\n",
       "    <tr>\n",
       "      <th>0</th>\n",
       "      <td>0</td>\n",
       "      <td>0</td>\n",
       "      <td>manager</td>\n",
       "      <td>Алло</td>\n",
       "    </tr>\n",
       "    <tr>\n",
       "      <th>109</th>\n",
       "      <td>1</td>\n",
       "      <td>0</td>\n",
       "      <td>manager</td>\n",
       "      <td>Да здравствуйте когда заканчивается</td>\n",
       "    </tr>\n",
       "    <tr>\n",
       "      <th>164</th>\n",
       "      <td>2</td>\n",
       "      <td>0</td>\n",
       "      <td>manager</td>\n",
       "      <td>Алло</td>\n",
       "    </tr>\n",
       "    <tr>\n",
       "      <th>249</th>\n",
       "      <td>3</td>\n",
       "      <td>0</td>\n",
       "      <td>manager</td>\n",
       "      <td>Добрый день</td>\n",
       "    </tr>\n",
       "    <tr>\n",
       "      <th>302</th>\n",
       "      <td>4</td>\n",
       "      <td>0</td>\n",
       "      <td>manager</td>\n",
       "      <td>Алло</td>\n",
       "    </tr>\n",
       "    <tr>\n",
       "      <th>337</th>\n",
       "      <td>5</td>\n",
       "      <td>0</td>\n",
       "      <td>manager</td>\n",
       "      <td>Алло</td>\n",
       "    </tr>\n",
       "  </tbody>\n",
       "</table>\n",
       "</div>"
      ],
      "text/plain": [
       "     dlg_id  line_n     role                                 text\n",
       "0         0       0  manager                                 Алло\n",
       "109       1       0  manager  Да здравствуйте когда заканчивается\n",
       "164       2       0  manager                                 Алло\n",
       "249       3       0  manager                          Добрый день\n",
       "302       4       0  manager                                 Алло\n",
       "337       5       0  manager                                 Алло"
      ]
     },
     "execution_count": 10,
     "metadata": {},
     "output_type": "execute_result"
    }
   ],
   "source": [
    "data[data[\"line_n\"] == 0]"
   ]
  },
  {
   "cell_type": "markdown",
   "id": "7afdab3b",
   "metadata": {},
   "source": [
    "## Сохраним все реплики каждого клиента"
   ]
  },
  {
   "cell_type": "code",
   "execution_count": 11,
   "id": "b17ef587",
   "metadata": {},
   "outputs": [
    {
     "name": "stderr",
     "output_type": "stream",
     "text": [
      "C:\\Users\\Dany\\AppData\\Local\\Temp\\ipykernel_32084\\1382421496.py:4: UserWarning: Boolean Series key will be reindexed to match DataFrame index.\n",
      "  client_phrases.append(data[data[\"dlg_id\"] == i][data[\"role\"] == \"client\"].iloc[:, -1].values)\n"
     ]
    }
   ],
   "source": [
    "client_phrases = []\n",
    "client_words = []\n",
    "for i in range(num_of_dialogs):\n",
    "    client_phrases.append(data[data[\"dlg_id\"] == i][data[\"role\"] == \"client\"].iloc[:, -1].values)\n",
    "for (i, j) in zip(client_phrases, range(num_of_dialogs)):\n",
    "    client_words.append(list(map(nltk.word_tokenize, client_phrases[j])))\n",
    "    temp = []\n",
    "    for k in client_words[-1]:\n",
    "        temp += k\n",
    "    client_words[-1] = set(temp)"
   ]
  },
  {
   "cell_type": "markdown",
   "id": "e2b67308",
   "metadata": {},
   "source": [
    "## Сохраним все реплики каждого менеджера"
   ]
  },
  {
   "cell_type": "code",
   "execution_count": 12,
   "id": "2b8f5430",
   "metadata": {},
   "outputs": [
    {
     "name": "stderr",
     "output_type": "stream",
     "text": [
      "C:\\Users\\Dany\\AppData\\Local\\Temp\\ipykernel_32084\\1307033485.py:4: UserWarning: Boolean Series key will be reindexed to match DataFrame index.\n",
      "  manager_phrases.append(data[data[\"dlg_id\"] == i][data[\"role\"] == \"manager\"].iloc[:, -1].values)\n"
     ]
    }
   ],
   "source": [
    "manager_phrases = []\n",
    "manager_words = []\n",
    "for i in range(num_of_dialogs):\n",
    "    manager_phrases.append(data[data[\"dlg_id\"] == i][data[\"role\"] == \"manager\"].iloc[:, -1].values)\n",
    "for (i, j) in zip(manager_phrases, range(num_of_dialogs)):\n",
    "    manager_words.append(list(map(nltk.word_tokenize, manager_phrases[j])))\n",
    "    temp = []\n",
    "    for k in manager_words[-1]:\n",
    "        temp += k\n",
    "    manager_words[-1] = set(temp)"
   ]
  },
  {
   "cell_type": "markdown",
   "id": "af737892",
   "metadata": {},
   "source": [
    "# Пункт a\n",
    "## Так как разговор официальный, скорее всего в диалоге будет использовано одно из следующих приветствий: \"Доброе утро\",\"Добрый день\", \"Добрый вечер\", \"Здравствуйте\". "
   ]
  },
  {
   "cell_type": "code",
   "execution_count": 13,
   "id": "9ba49845",
   "metadata": {},
   "outputs": [
    {
     "name": "stdout",
     "output_type": "stream",
     "text": [
      "Manager number =  0 Greeting: \" Добрый день \"\n",
      "Manager number =  1 Greeting: \" Да здравствуйте когда заканчивается \"\n",
      "Manager number =  2 Greeting: \" Здравствуйте \"\n",
      "Manager number =  3 Greeting: \" Добрый день \"\n",
      "Manager number =  5 Greeting: \" Да да да здравствуйте анастасия меня слышно да хорошо \"\n"
     ]
    }
   ],
   "source": [
    "greetings = [\"доброе утро\", \"добрый день\", \"добрый вечер\", \"здравствуйте\"]\n",
    "first_mask_for_f = [False] * len(manager_phrases)\n",
    "greeting_phrase_index = [-1] * len(manager_phrases)\n",
    "for i in range(len(manager_phrases)):\n",
    "    counter = 0\n",
    "    for phrase in manager_phrases[i]:\n",
    "        for greeting in greetings:\n",
    "            if phrase.lower().find(greeting) != -1: \n",
    "                print(\"Manager number = \", i, 'Greeting: \"', phrase, '\"')\n",
    "                first_mask_for_f[i] = True\n",
    "                greeting_phrase_index[i] = counter\n",
    "        counter += 1"
   ]
  },
  {
   "cell_type": "markdown",
   "id": "3b791be4",
   "metadata": {},
   "source": [
    "## Пятеро менеджеров поздоровались с клиентом"
   ]
  },
  {
   "cell_type": "markdown",
   "id": "892e8342",
   "metadata": {},
   "source": [
    "# Пункт b\n",
    "## Каждый раз клиенту первым отвечал менеджер. Предположим, что в таком случае, менеджер должен был представиться клиенту за первые 2 свои реплики"
   ]
  },
  {
   "cell_type": "markdown",
   "id": "e8d08cd8",
   "metadata": {},
   "source": [
    "## Проверим, были ли названы какие-либо имена за первые 2 реплики менеджера"
   ]
  },
  {
   "cell_type": "code",
   "execution_count": 14,
   "id": "5773be60",
   "metadata": {},
   "outputs": [],
   "source": [
    "for i in range(len(manager_phrases)):\n",
    "    names = []\n",
    "    for j in range(min(2, len(manager_phrases[i]))):\n",
    "        phrase = manager_phrases[i][j]\n",
    "        names = []\n",
    "        doc = Doc(phrase)        \n",
    "        matches = names_extractor(phrase)\n",
    "        for match in matches:\n",
    "            temp_name = match.fact.first\n",
    "            if temp_name is not None and names_df[\"Name\"].str.contains(temp_name.title()).sum() != 0 and len(temp_name) > 3:\n",
    "                print(phrase)\n",
    "                print(\"Manager number = \", i, \"Manager Name = \", match.fact.first)"
   ]
  },
  {
   "cell_type": "markdown",
   "id": "f16cd774",
   "metadata": {},
   "source": [
    "## Имен не обнаружено. Таким образом, согласно предположению, раз не обнаружено имен за первые 2 реплики менеджера, то он не представился клиенту"
   ]
  },
  {
   "cell_type": "code",
   "execution_count": 15,
   "id": "e86a359d",
   "metadata": {},
   "outputs": [
    {
     "data": {
      "text/plain": [
       "[('День', 'добрый'), ('Добрый', 'день'), ('день', 'День')]"
      ]
     },
     "execution_count": 15,
     "metadata": {},
     "output_type": "execute_result"
    }
   ],
   "source": [
    "from nltk.collocations import BigramCollocationFinder, BigramAssocMeasures\n",
    "text = \"Добрый день День добрый\"\n",
    "bigram_measures = nltk.collocations.BigramAssocMeasures()\n",
    "tokens = nltk.wordpunct_tokenize(text)\n",
    "finder = BigramCollocationFinder.from_words(tokens)\n",
    "scored = finder.score_ngrams(bigram_measures.raw_freq)\n",
    "sorted(bigram for bigram, score in scored)"
   ]
  },
  {
   "cell_type": "markdown",
   "id": "5ab6982a",
   "metadata": {},
   "source": [
    "# Пункт c"
   ]
  },
  {
   "cell_type": "markdown",
   "id": "fcbe76a5",
   "metadata": {},
   "source": [
    "## Найдем все имена, которые назвывал клиент. Предположим, что если  клиент представился, то он использовал в фразе слово \"зовут\" или слово \"это\" рядом с именем. Так же предположим, что в диалоге не было названо других имен до того, как клиент обратился к менеджеру по имени."
   ]
  },
  {
   "cell_type": "code",
   "execution_count": 16,
   "id": "dc09e167",
   "metadata": {},
   "outputs": [
    {
     "name": "stdout",
     "output_type": "stream",
     "text": [
      "Меня зовут ангелина компания диджитал бизнес звоним вам по поводу продления лицензии а мы с серым у вас скоро срок заканчивается\n",
      "Меня зовут ангелина компания диджитал бизнес звоню вам по поводу продления а мы сели обратила внимание что у вас срок заканчивается\n",
      "Меня зовут ангелина компания диджитал бизнес звоню вам по поводу продления лицензии а мастера мы с вами сотрудничали по видео там\n",
      "Алло дмитрий добрый день\n",
      "phrase_num =  0  ---  дмитрий\n",
      "Добрый меня максим зовут компания китобизнес удобно говорить\n",
      "Да дмитрий вот мне моя коллега анастасия подсказала что у вас есть какие то открытые вопросы связанные с техническими особенностями а мы серым вот готов буду его ответить или взять паузу и решите эти вопросы уточните пожалуйста в чем задача состоит\n",
      "Да дмитрий вот мне моя коллега анастасия подсказала что у вас есть какие то открытые вопросы связанные с техническими особенностями а мы серым вот готов буду его ответить или взять паузу и решите эти вопросы уточните пожалуйста в чем задача состоит\n",
      "phrase_num =  2  ---  дмитрий\n",
      "А вот а ну вот помните айдар вам не подходило то что вот вы ставили конечную дату платежа и у вас промежуточные платежи по ним задачи вот не выставляли то есть вы получали задачу на конечную дату вот и вот это было ну тем фактором который вам не подошел именно в этом виде этих платежей вот а\n",
      "phrase_num =  6  ---  айдар\n",
      "Да это анастасия\n",
      "Вот смотрите вячеслав сейчас со мной я вам вышлю счет мы с вами продлили лицензию далее вы мне дадите номер не знаю\n",
      "phrase_num =  57  ---  вячеслав\n",
      "Вот и вам с вами свяжется максим он отвечает у нас да вижу и он конкретно вы ему уже расскажете про свой бизнес чем конкретно вы занимаетесь там ваши объемы вот и в принципе просто мы стираем немного ну он там задаст вопросы\n",
      "phrase_num =  60  ---  максим\n",
      "Так дмитрий\n",
      "phrase_num =  75  ---  дмитрий\n"
     ]
    },
    {
     "data": {
      "text/plain": [
       "['дмитрий', 'дмитрий', 'айдар', 'вячеслав', 'максим', 'дмитрий']"
      ]
     },
     "execution_count": 16,
     "metadata": {},
     "output_type": "execute_result"
    }
   ],
   "source": [
    "manager_names = []\n",
    "for i in range(len(client_phrases)):\n",
    "    counter = 0\n",
    "    for phrase in client_phrases[i]:\n",
    "        matches = names_extractor(phrase)\n",
    "        #print([matches.])\n",
    "        #spans = [_.span for _ in matches]\n",
    "        facts = [_.fact.as_json for _ in matches]\n",
    "        names_in_phrase = []\n",
    "        for name in facts:\n",
    "            #print([name.keys()])\n",
    "            if 'first' in name.keys():\n",
    "                if names_df[\"Name\"].str.contains(name['first'].title()).sum() != 0 and len(name['first']) > 4:\n",
    "                    names_in_phrase.append(name['first'])\n",
    "                    print(phrase)\n",
    "        temp_eto_index = phrase.find('это')\n",
    "        if(len(names_in_phrase) > 0 and (phrase.find('зовут') != -1 or (temp_eto_index != -1 and ((temp_eto_index + 4) == phrase.find(names_in_phrase[0]) or temp_eto_index == phrase.find(names_in_phrase[0]) + len(names_in_phrase[0]) + 1)))):\n",
    "            if(len(names_in_phrase) > 1):\n",
    "                print(\"phrase_num = \", counter, \" --- \", names_in_phrase[1:])\n",
    "                manager_names.append(names_in_phrase[1:])\n",
    "        elif(len(names_in_phrase) > 0):\n",
    "            print(\"phrase_num = \", counter, \" --- \", names_in_phrase[0])\n",
    "            manager_names.append(names_in_phrase[0])\n",
    "        counter += 1\n",
    "manager_names"
   ]
  },
  {
   "cell_type": "markdown",
   "id": "0cf13f26",
   "metadata": {},
   "source": [
    "## В данном случае код сделал 2 ложных срабатывания: в 4-м и 5-м диалоге"
   ]
  },
  {
   "cell_type": "markdown",
   "id": "84af67f6",
   "metadata": {},
   "source": [
    "# Пункт d"
   ]
  },
  {
   "cell_type": "markdown",
   "id": "892db84b",
   "metadata": {},
   "source": [
    "## Как правило, когда человек говорит название своей компании, это звучит следующим образом: \"Компания \\название компании\\ \", \"Я из компании \\название компании\\ \", \"Я представляю компанию\". "
   ]
  },
  {
   "cell_type": "markdown",
   "id": "f77167d2",
   "metadata": {},
   "source": [
    "## Кроме того, что мы ожидаем услышать от клиента, мы так же предполагаем, что название компании, если клиент об этом говорил, поместится в двух словах\n",
    "## Для того, чтобы сохранить именно название компании клиента, а не транспортной или любой другой компании, вводим переменную, которая меняет свое значение 1 раз, при первом нахождении компании"
   ]
  },
  {
   "cell_type": "code",
   "execution_count": 17,
   "id": "8356b1d4",
   "metadata": {},
   "outputs": [
    {
     "name": "stdout",
     "output_type": "stream",
     "text": [
      "Client number =  0 company: диджитал бизнес\n",
      "Client number =  1 company: диджитал бизнес\n",
      "Client number =  2 company: диджитал бизнес\n",
      "Client number =  3 company: китобизнес удобно\n"
     ]
    }
   ],
   "source": [
    "companies = [\"компания \", \"я из компании\", \"я представляю компанию\"]\n",
    "find_mask = [False] * len(client_phrases)\n",
    "companies_res = [\"None\"] * len(client_phrases)\n",
    "for i in range(len(client_phrases)):\n",
    "    for phrase in client_phrases[i]:\n",
    "        for company in companies:\n",
    "            curr_find = phrase.lower().find(company)\n",
    "            if curr_find != -1 and find_mask[i] == False: \n",
    "                find_mask[i] = True\n",
    "                temp = phrase[curr_find + len(company):].split()\n",
    "                client_company = temp[0] + \" \" + temp[1]\n",
    "                companies_res[i] = client_company\n",
    "                print(\"Client number = \", i, 'company:', client_company)"
   ]
  },
  {
   "cell_type": "markdown",
   "id": "d8b02cba",
   "metadata": {},
   "source": [
    "# Пункт e\n",
    "## Так как разговор официальный, скорее всего в диалоге будет использовано одно из следующих прощаний: \"До свидания\", \"Всего доброго\", \"Всего хорошего\". "
   ]
  },
  {
   "cell_type": "code",
   "execution_count": 18,
   "id": "a488ee3a",
   "metadata": {},
   "outputs": [
    {
     "name": "stdout",
     "output_type": "stream",
     "text": [
      "Manager number =  3 Farewell: \" Да до свидания \"\n",
      "Manager number =  4 Farewell: \" Угу да до свидания \"\n"
     ]
    }
   ],
   "source": [
    "farewells = [\"до свидания\", \"всего доброго\", \"всего хорошего\"]\n",
    "second_mask_for_f = [False] * len(manager_phrases)\n",
    "farewell_phrase_index = [-1] * len(manager_phrases)\n",
    "for i in range(len(manager_phrases)):\n",
    "    counter = 0\n",
    "    for phrase in manager_phrases[i]:\n",
    "        for farewell in farewells:\n",
    "            if phrase.lower().find(farewell) != -1: \n",
    "                print(\"Manager number = \", i, 'Farewell: \"', phrase, '\"')\n",
    "                second_mask_for_f[i] = True\n",
    "                farewell_phrase_index[i] = counter\n",
    "        counter += 1"
   ]
  },
  {
   "cell_type": "markdown",
   "id": "756e4e8d",
   "metadata": {},
   "source": [
    "## Двое менеджеров попрощались с клиентом"
   ]
  },
  {
   "cell_type": "markdown",
   "id": "3b998894",
   "metadata": {},
   "source": [
    "# Пункт f"
   ]
  },
  {
   "cell_type": "code",
   "execution_count": 19,
   "id": "4b05e109",
   "metadata": {},
   "outputs": [
    {
     "data": {
      "text/plain": [
       "(array([ True,  True,  True,  True, False,  True]),\n",
       " array([False, False, False,  True,  True, False]))"
      ]
     },
     "execution_count": 19,
     "metadata": {},
     "output_type": "execute_result"
    }
   ],
   "source": [
    "first_mask_for_f = np.array(first_mask_for_f)\n",
    "second_mask_for_f = np.array(second_mask_for_f)\n",
    "first_mask_for_f, second_mask_for_f"
   ]
  },
  {
   "cell_type": "code",
   "execution_count": 20,
   "id": "ea1feada",
   "metadata": {},
   "outputs": [
    {
     "data": {
      "text/plain": [
       "array([False, False, False,  True, False, False])"
      ]
     },
     "execution_count": 20,
     "metadata": {},
     "output_type": "execute_result"
    }
   ],
   "source": [
    "task_f = np.array(first_mask_for_f) * np.array(second_mask_for_f)\n",
    "task_f"
   ]
  },
  {
   "cell_type": "markdown",
   "id": "f828bf4e",
   "metadata": {},
   "source": [
    "## Один менеджер и поздоровался и попрощался с клиентом"
   ]
  },
  {
   "cell_type": "markdown",
   "id": "c7a8531d",
   "metadata": {},
   "source": [
    "# Сохраним результаты решения каждого пункта"
   ]
  },
  {
   "cell_type": "code",
   "execution_count": 21,
   "id": "087e9134",
   "metadata": {},
   "outputs": [
    {
     "data": {
      "text/plain": [
       "[-1, -1, -1, 30, 20, -1]"
      ]
     },
     "execution_count": 21,
     "metadata": {},
     "output_type": "execute_result"
    }
   ],
   "source": [
    "farewell_phrase_index"
   ]
  },
  {
   "cell_type": "code",
   "execution_count": 22,
   "id": "172cdc87",
   "metadata": {},
   "outputs": [
    {
     "data": {
      "text/plain": [
       "[1, 0, 1, 0, -1, 12]"
      ]
     },
     "execution_count": 22,
     "metadata": {},
     "output_type": "execute_result"
    }
   ],
   "source": [
    "greeting_phrase_index"
   ]
  },
  {
   "cell_type": "code",
   "execution_count": 23,
   "id": "d641649c",
   "metadata": {},
   "outputs": [
    {
     "name": "stdout",
     "output_type": "stream",
     "text": [
      "---\n",
      "Добрый день\n",
      "---\n",
      "Да здравствуйте когда заканчивается\n",
      "---\n",
      "Здравствуйте\n",
      "---\n",
      "Добрый день\n",
      "Да до свидания\n",
      "---\n",
      "Угу да до свидания\n",
      "---\n",
      "Да да да здравствуйте анастасия меня слышно да хорошо\n"
     ]
    }
   ],
   "source": [
    "for i in range(len(manager_phrases)):\n",
    "    print('---')\n",
    "    if(greeting_phrase_index[i] != -1):\n",
    "        print(manager_phrases[i][greeting_phrase_index[i]])\n",
    "    if(farewell_phrase_index[i] != -1):\n",
    "        print(manager_phrases[i][farewell_phrase_index[i]])"
   ]
  },
  {
   "cell_type": "code",
   "execution_count": 24,
   "id": "1b4016dd",
   "metadata": {},
   "outputs": [
    {
     "data": {
      "text/plain": [
       "['диджитал бизнес',\n",
       " 'диджитал бизнес',\n",
       " 'диджитал бизнес',\n",
       " 'китобизнес',\n",
       " 'None',\n",
       " 'None']"
      ]
     },
     "execution_count": 24,
     "metadata": {},
     "output_type": "execute_result"
    }
   ],
   "source": [
    "companies_res[3] = companies_res[3].split()[0]\n",
    "companies_res"
   ]
  },
  {
   "cell_type": "code",
   "execution_count": 25,
   "id": "11b1b208",
   "metadata": {},
   "outputs": [
    {
     "data": {
      "text/plain": [
       "['дмитрий', 'дмитрий', 'айдар', 'вячеслав', 'максим', 'дмитрий']"
      ]
     },
     "execution_count": 25,
     "metadata": {},
     "output_type": "execute_result"
    }
   ],
   "source": [
    "manager_names"
   ]
  },
  {
   "cell_type": "code",
   "execution_count": 26,
   "id": "b3fdb70a",
   "metadata": {},
   "outputs": [
    {
     "data": {
      "text/plain": [
       "['дмитрий', 'дмитрий', 'айдар', 'None', 'None', 'дмитрий']"
      ]
     },
     "execution_count": 26,
     "metadata": {},
     "output_type": "execute_result"
    }
   ],
   "source": [
    "manager_names[3] = \"None\"\n",
    "manager_names[4] = \"None\"\n",
    "manager_names"
   ]
  },
  {
   "cell_type": "code",
   "execution_count": 27,
   "id": "315e2b86",
   "metadata": {},
   "outputs": [],
   "source": [
    "results = pd.DataFrame(columns=['dlg_no', 'a', 'b', 'c', 'd', 'e', 'f'])\n",
    "for i in range(len(manager_phrases)):\n",
    "    #new_row = {'a':'', 'b':87, 'c':92, 'd':97, 'e':, 'f': }\n",
    "    new_row = {}\n",
    "    new_row['dlg_no'] = i\n",
    "    new_row['b'] = \"Менеджер не представился\"\n",
    "    if(greeting_phrase_index[i] != -1):\n",
    "        #print(manager_phrases[i][greeting_phrase_index[i]])\n",
    "        new_row['a'] = manager_phrases[i][greeting_phrase_index[i]]\n",
    "    else:\n",
    "        new_row['a'] = \"Менеджер не поздоровался\"\n",
    "    if manager_names[i] != \"None\":\n",
    "        new_row['c'] = manager_names[i].title()\n",
    "    else:\n",
    "        new_row['c'] = \"Имя менеджера не называлось\"\n",
    "    if companies_res[i] != \"None\":\n",
    "        new_row['d'] = companies_res[i].title()\n",
    "    else:\n",
    "        new_row['d'] = \"Компания клиента не упоминалась\"\n",
    "    if(farewell_phrase_index[i] != -1):\n",
    "        #print(manager_phrases[i][greeting_phrase_index[i]])\n",
    "        new_row['e'] = manager_phrases[i][farewell_phrase_index[i]]\n",
    "    else:\n",
    "        new_row['e'] = \"Менеджер не попрощался\"\n",
    "    if task_f[i] == True:\n",
    "        new_row['f'] = \"Менеджер поздоровался и попрощался\"\n",
    "    else:\n",
    "        new_row['f'] = \"Условие не выполнено\"\n",
    "        #results = results.append(['None'])\n",
    "    results = pd.concat([results, pd.DataFrame.from_dict(new_row, orient = 'index').T], axis=0, ignore_index=True)"
   ]
  },
  {
   "cell_type": "code",
   "execution_count": 28,
   "id": "152ce823",
   "metadata": {},
   "outputs": [
    {
     "data": {
      "text/html": [
       "<div>\n",
       "<style scoped>\n",
       "    .dataframe tbody tr th:only-of-type {\n",
       "        vertical-align: middle;\n",
       "    }\n",
       "\n",
       "    .dataframe tbody tr th {\n",
       "        vertical-align: top;\n",
       "    }\n",
       "\n",
       "    .dataframe thead th {\n",
       "        text-align: right;\n",
       "    }\n",
       "</style>\n",
       "<table border=\"1\" class=\"dataframe\">\n",
       "  <thead>\n",
       "    <tr style=\"text-align: right;\">\n",
       "      <th></th>\n",
       "      <th>dlg_no</th>\n",
       "      <th>a</th>\n",
       "      <th>b</th>\n",
       "      <th>c</th>\n",
       "      <th>d</th>\n",
       "      <th>e</th>\n",
       "      <th>f</th>\n",
       "    </tr>\n",
       "  </thead>\n",
       "  <tbody>\n",
       "    <tr>\n",
       "      <th>0</th>\n",
       "      <td>0</td>\n",
       "      <td>Добрый день</td>\n",
       "      <td>Менеджер не представился</td>\n",
       "      <td>Дмитрий</td>\n",
       "      <td>Диджитал Бизнес</td>\n",
       "      <td>Менеджер не попрощался</td>\n",
       "      <td>Условие не выполнено</td>\n",
       "    </tr>\n",
       "    <tr>\n",
       "      <th>1</th>\n",
       "      <td>1</td>\n",
       "      <td>Да здравствуйте когда заканчивается</td>\n",
       "      <td>Менеджер не представился</td>\n",
       "      <td>Дмитрий</td>\n",
       "      <td>Диджитал Бизнес</td>\n",
       "      <td>Менеджер не попрощался</td>\n",
       "      <td>Условие не выполнено</td>\n",
       "    </tr>\n",
       "    <tr>\n",
       "      <th>2</th>\n",
       "      <td>2</td>\n",
       "      <td>Здравствуйте</td>\n",
       "      <td>Менеджер не представился</td>\n",
       "      <td>Айдар</td>\n",
       "      <td>Диджитал Бизнес</td>\n",
       "      <td>Менеджер не попрощался</td>\n",
       "      <td>Условие не выполнено</td>\n",
       "    </tr>\n",
       "    <tr>\n",
       "      <th>3</th>\n",
       "      <td>3</td>\n",
       "      <td>Добрый день</td>\n",
       "      <td>Менеджер не представился</td>\n",
       "      <td>Имя менеджера не называлось</td>\n",
       "      <td>Китобизнес</td>\n",
       "      <td>Да до свидания</td>\n",
       "      <td>Менеджер поздоровался и попрощался</td>\n",
       "    </tr>\n",
       "    <tr>\n",
       "      <th>4</th>\n",
       "      <td>4</td>\n",
       "      <td>Менеджер не поздоровался</td>\n",
       "      <td>Менеджер не представился</td>\n",
       "      <td>Имя менеджера не называлось</td>\n",
       "      <td>Компания клиента не упоминалась</td>\n",
       "      <td>Угу да до свидания</td>\n",
       "      <td>Условие не выполнено</td>\n",
       "    </tr>\n",
       "    <tr>\n",
       "      <th>5</th>\n",
       "      <td>5</td>\n",
       "      <td>Да да да здравствуйте анастасия меня слышно да...</td>\n",
       "      <td>Менеджер не представился</td>\n",
       "      <td>Дмитрий</td>\n",
       "      <td>Компания клиента не упоминалась</td>\n",
       "      <td>Менеджер не попрощался</td>\n",
       "      <td>Условие не выполнено</td>\n",
       "    </tr>\n",
       "  </tbody>\n",
       "</table>\n",
       "</div>"
      ],
      "text/plain": [
       "  dlg_no                                                  a  \\\n",
       "0      0                                        Добрый день   \n",
       "1      1                Да здравствуйте когда заканчивается   \n",
       "2      2                                       Здравствуйте   \n",
       "3      3                                        Добрый день   \n",
       "4      4                           Менеджер не поздоровался   \n",
       "5      5  Да да да здравствуйте анастасия меня слышно да...   \n",
       "\n",
       "                          b                            c  \\\n",
       "0  Менеджер не представился                      Дмитрий   \n",
       "1  Менеджер не представился                      Дмитрий   \n",
       "2  Менеджер не представился                        Айдар   \n",
       "3  Менеджер не представился  Имя менеджера не называлось   \n",
       "4  Менеджер не представился  Имя менеджера не называлось   \n",
       "5  Менеджер не представился                      Дмитрий   \n",
       "\n",
       "                                 d                       e  \\\n",
       "0                  Диджитал Бизнес  Менеджер не попрощался   \n",
       "1                  Диджитал Бизнес  Менеджер не попрощался   \n",
       "2                  Диджитал Бизнес  Менеджер не попрощался   \n",
       "3                       Китобизнес          Да до свидания   \n",
       "4  Компания клиента не упоминалась      Угу да до свидания   \n",
       "5  Компания клиента не упоминалась  Менеджер не попрощался   \n",
       "\n",
       "                                    f  \n",
       "0                Условие не выполнено  \n",
       "1                Условие не выполнено  \n",
       "2                Условие не выполнено  \n",
       "3  Менеджер поздоровался и попрощался  \n",
       "4                Условие не выполнено  \n",
       "5                Условие не выполнено  "
      ]
     },
     "execution_count": 28,
     "metadata": {},
     "output_type": "execute_result"
    }
   ],
   "source": [
    "results"
   ]
  },
  {
   "cell_type": "code",
   "execution_count": 29,
   "id": "d8c7207b",
   "metadata": {},
   "outputs": [],
   "source": [
    "results.to_csv(\"parsing_results.csv\", encoding='cp1251', index = False)"
   ]
  },
  {
   "cell_type": "code",
   "execution_count": null,
   "id": "806023d9",
   "metadata": {},
   "outputs": [],
   "source": []
  }
 ],
 "metadata": {
  "kernelspec": {
   "display_name": "Python 3 (ipykernel)",
   "language": "python",
   "name": "python3"
  },
  "language_info": {
   "codemirror_mode": {
    "name": "ipython",
    "version": 3
   },
   "file_extension": ".py",
   "mimetype": "text/x-python",
   "name": "python",
   "nbconvert_exporter": "python",
   "pygments_lexer": "ipython3",
   "version": "3.8.8"
  }
 },
 "nbformat": 4,
 "nbformat_minor": 5
}
